{
 "cells": [
  {
   "cell_type": "markdown",
   "id": "69785501-a3e9-401a-87fb-f83e0b36ff95",
   "metadata": {},
   "source": [
    "### Practice"
   ]
  },
  {
   "cell_type": "markdown",
   "id": "2cddbae9-2f80-4c8e-8094-2531dfa3bd57",
   "metadata": {},
   "source": [
    "Question: Write a Python program to swap the values of two variables x and y without using a third variable.\n"
   ]
  },
  {
   "cell_type": "code",
   "execution_count": 1,
   "id": "27f359f9-97df-4dea-a43f-f87929329f5e",
   "metadata": {},
   "outputs": [
    {
     "name": "stdout",
     "output_type": "stream",
     "text": [
      "6 2\n"
     ]
    }
   ],
   "source": [
    "x = 2\n",
    "y = 6\n",
    "# x, y = y, x\n",
    "\n",
    "x = x + y\n",
    "y = x - y\n",
    "x = x - y\n",
    "\n",
    "print(x , y)"
   ]
  },
  {
   "cell_type": "markdown",
   "id": "cc43cc58-dfd0-4a76-9313-2eb9f4298cac",
   "metadata": {},
   "source": [
    "# Functions in python"
   ]
  },
  {
   "cell_type": "code",
   "execution_count": 34,
   "id": "1e1f2c54-db7e-4eaf-b83a-64c7985de08d",
   "metadata": {},
   "outputs": [
    {
     "name": "stdout",
     "output_type": "stream",
     "text": [
      "B\n",
      "Hello World!\n",
      "A\n",
      "Hello World!\n",
      "A\n"
     ]
    }
   ],
   "source": [
    "def functionName():\n",
    "    print(\"Hello World!\")\n",
    "    print(\"A\")\n",
    "    \n",
    "print(\"B\")\n",
    "\n",
    "functionName()\n",
    "functionName()\n"
   ]
  },
  {
   "cell_type": "code",
   "execution_count": 46,
   "id": "270bffd2-7bf9-4ed3-8946-ab3d9b5e556d",
   "metadata": {},
   "outputs": [
    {
     "name": "stdout",
     "output_type": "stream",
     "text": [
      "Hello World!\n",
      "A\n",
      "Value returned from functions: 3\n",
      "Hello World!\n",
      "A\n"
     ]
    },
    {
     "data": {
      "text/plain": [
       "3"
      ]
     },
     "execution_count": 46,
     "metadata": {},
     "output_type": "execute_result"
    }
   ],
   "source": [
    "# function returning a value\n",
    "def functionName2():\n",
    "    print(\"Hello World!\")\n",
    "    print(\"A\")\n",
    "    return 3\n",
    "\n",
    "x = functionName2()\n",
    "print(\"Value returned from functions:\",x)\n",
    "\n",
    "functionName2()\n"
   ]
  },
  {
   "cell_type": "code",
   "execution_count": 86,
   "id": "e63147cd-0019-4276-8ae0-f230d91e5884",
   "metadata": {},
   "outputs": [
    {
     "name": "stdout",
     "output_type": "stream",
     "text": [
      "8\n"
     ]
    }
   ],
   "source": [
    "# function for sum of 2 numbers\n",
    "a = 1\n",
    "b = 1\n",
    "\n",
    "def addition(var1, var2):\n",
    "    result = var1 + var2\n",
    "    return result\n",
    "\n",
    "x = addition(3, 5)\n",
    "print(x)\n",
    "\n",
    "# print(addition(3, 5))"
   ]
  },
  {
   "cell_type": "code",
   "execution_count": 84,
   "id": "1f23e492-5983-4637-bf5a-d7c135513c62",
   "metadata": {},
   "outputs": [
    {
     "name": "stdout",
     "output_type": "stream",
     "text": [
      "1 1\n",
      "8\n",
      "1000\n",
      "1 1\n"
     ]
    }
   ],
   "source": [
    "# how to use global variable in a function\n",
    "a = 1\n",
    "b = 1\n",
    "yy = 55\n",
    "def addition(a, b):\n",
    "    # global yy # not recommended\n",
    "    result = a + b\n",
    "    a= 3\n",
    "    yy = 1000\n",
    "    return result\n",
    "\n",
    "print(a, b)\n",
    "a = addition(3, 5)"
   ]
  },
  {
   "cell_type": "code",
   "execution_count": null,
   "id": "f299131e-5407-4777-b26a-bcaaf2d086b1",
   "metadata": {},
   "outputs": [],
   "source": []
  },
  {
   "cell_type": "code",
   "execution_count": 108,
   "id": "533948e3-34b5-4bfb-9c5e-e185d0e64945",
   "metadata": {},
   "outputs": [
    {
     "name": "stdout",
     "output_type": "stream",
     "text": [
      "Hello Rajat Jain!\n"
     ]
    }
   ],
   "source": [
    "def myFun(firstName):\n",
    "    return \"Hello \" + firstName + \"!\"\n",
    "    \n",
    "x = myFun(\"Rajat Jain\")\n",
    "print(x)"
   ]
  },
  {
   "cell_type": "code",
   "execution_count": 106,
   "id": "c1362c51-68d5-4735-b7cc-e0ff36ac7ecb",
   "metadata": {},
   "outputs": [
    {
     "name": "stdout",
     "output_type": "stream",
     "text": [
      "10\n"
     ]
    }
   ],
   "source": [
    "def myFun2():\n",
    "    return 3 + 5\n",
    "\n",
    "print(myFun2())"
   ]
  },
  {
   "cell_type": "markdown",
   "id": "b3e5d3aa-6a77-4dce-abe9-1e4b23265186",
   "metadata": {},
   "source": [
    "### Default Arguments"
   ]
  },
  {
   "cell_type": "code",
   "execution_count": 124,
   "id": "2a3f42b0-206b-4f1f-841c-4c4467098078",
   "metadata": {},
   "outputs": [
    {
     "name": "stdout",
     "output_type": "stream",
     "text": [
      "Hello Fynd Ac\n"
     ]
    }
   ],
   "source": [
    "def myFun3(firstName, lastName = \"Academy\"):\n",
    "    print(\"Hello \" + firstName + \" \" + lastName)\n",
    "\n",
    "myFun3(\"Fynd\", \"Ac\")"
   ]
  },
  {
   "cell_type": "code",
   "execution_count": 160,
   "id": "e680eee1-c8d2-4f85-b39a-c49719494a96",
   "metadata": {},
   "outputs": [
    {
     "name": "stdout",
     "output_type": "stream",
     "text": [
      "4\n"
     ]
    }
   ],
   "source": [
    "def incrementNumber(a, b = 1):\n",
    "    return a + b\n",
    "    \n",
    "x = incrementNumber(3)\n",
    "print(x)"
   ]
  },
  {
   "cell_type": "markdown",
   "id": "4e68f183-efd9-4d41-b290-6d93d23f7319",
   "metadata": {},
   "source": [
    "### Keyword Arguments"
   ]
  },
  {
   "cell_type": "code",
   "execution_count": 150,
   "id": "5cd39332-2149-4775-bbf6-4c8cd793c55b",
   "metadata": {},
   "outputs": [
    {
     "name": "stdout",
     "output_type": "stream",
     "text": [
      "Hello Rajat Academy\n"
     ]
    }
   ],
   "source": [
    "def myFun3(firstName, lastName = \"Academy\"):\n",
    "    print(\"Hello \" + firstName + \" \" + lastName)\n",
    "\n",
    "myFun3(lastName = \"Jain\", firstName = \"Rajat\")"
   ]
  },
  {
   "cell_type": "code",
   "execution_count": 156,
   "id": "75fad796-8a87-4c15-a057-2cccbdd09d84",
   "metadata": {},
   "outputs": [
    {
     "name": "stdout",
     "output_type": "stream",
     "text": [
      "6\n",
      "6\n",
      "6\n"
     ]
    }
   ],
   "source": [
    "def mySum(a, b, c):\n",
    "    return a + b + c\n",
    "\n",
    "print(mySum(1, 2, 3))\n",
    "print(mySum(1, c = 3, b = 2))\n",
    "print(mySum(a = 1, b = 2, c = 3))"
   ]
  },
  {
   "cell_type": "code",
   "execution_count": 162,
   "id": "74ca2439-e7ec-4381-aa35-dc18d30520b2",
   "metadata": {},
   "outputs": [
    {
     "name": "stdout",
     "output_type": "stream",
     "text": [
      "A b C D\n"
     ]
    }
   ],
   "source": [
    "print(\"A\", \"b\", \"C\", \"D\")"
   ]
  },
  {
   "cell_type": "markdown",
   "id": "cb60f6d0-2d5c-4eac-9bcd-819f185b2077",
   "metadata": {},
   "source": [
    "### Arbitrary Positional Argument"
   ]
  },
  {
   "cell_type": "code",
   "execution_count": 171,
   "id": "020defae-7df6-4189-8f6e-737409a13596",
   "metadata": {},
   "outputs": [
    {
     "name": "stdout",
     "output_type": "stream",
     "text": [
      "(1, 2, 3)\n",
      "6\n",
      "(1, 2)\n",
      "3\n",
      "(1,)\n",
      "1\n"
     ]
    }
   ],
   "source": [
    "def mySum2(*args):\n",
    "    print(args)\n",
    "    result = 0 \n",
    "    for i in args:\n",
    "        result += i\n",
    "    return result\n",
    "\n",
    "print(mySum2(1,2,3))\n",
    "print(mySum2(1,2))\n",
    "print(mySum2(1))"
   ]
  },
  {
   "cell_type": "code",
   "execution_count": 181,
   "id": "d528e6f4-cb64-4c7c-9c21-9b88f96b718d",
   "metadata": {},
   "outputs": [
    {
     "name": "stdout",
     "output_type": "stream",
     "text": [
      "VAR1 1\n",
      "VAR2 2\n",
      "args (3, 4, 5, 6)\n"
     ]
    }
   ],
   "source": [
    "def mySum3(var1, var2, *args):\n",
    "    print(\"VAR1\", var1)\n",
    "    print(\"VAR2\", var2)\n",
    "    print(\"args\", args)\n",
    "\n",
    "mySum3(1,2,3,4,5,6)"
   ]
  },
  {
   "cell_type": "code",
   "execution_count": 183,
   "id": "e4af4882-d9d4-471e-9569-5b5b7adb3b36",
   "metadata": {},
   "outputs": [
    {
     "name": "stdout",
     "output_type": "stream",
     "text": [
      "[1, 2, 3]\n"
     ]
    }
   ],
   "source": [
    "def abc():\n",
    "    return [1,2,3]\n",
    "\n",
    "print(abc())"
   ]
  },
  {
   "cell_type": "markdown",
   "id": "6b42edc8-ffc8-425c-a35c-35226ff4acc8",
   "metadata": {},
   "source": []
  },
  {
   "cell_type": "code",
   "execution_count": null,
   "id": "134f537b-ad3c-4bc2-b254-620ad18cdf38",
   "metadata": {},
   "outputs": [],
   "source": []
  },
  {
   "cell_type": "code",
   "execution_count": null,
   "id": "373be8e4-a913-4391-b959-f785ff795ac1",
   "metadata": {},
   "outputs": [],
   "source": []
  },
  {
   "cell_type": "code",
   "execution_count": 186,
   "id": "f9c24ff2-cdb2-426a-8259-d5ebd0e12502",
   "metadata": {},
   "outputs": [
    {
     "name": "stdout",
     "output_type": "stream",
     "text": [
      "120\n"
     ]
    }
   ],
   "source": [
    "def factorial(n):\n",
    "    if n == 1:\n",
    "        return 1\n",
    "    return n * factorial(n-1)\n",
    "\n",
    "print(factorial(5))"
   ]
  },
  {
   "cell_type": "code",
   "execution_count": 218,
   "id": "52345113-135e-4cd0-81ad-726e1f9ebf81",
   "metadata": {},
   "outputs": [
    {
     "name": "stdout",
     "output_type": "stream",
     "text": [
      "100\n",
      "Hello ('Rajat Jain', 34)\n",
      "34\n"
     ]
    }
   ],
   "source": [
    "def greeting(firstName, lastName):\n",
    "    insideVar2 = 34\n",
    "\n",
    "    def fullName():\n",
    "        insideVar2 = 100\n",
    "        print(insideVar2)\n",
    "        return (firstName + \" \" + lastName, 34)\n",
    "\n",
    "    print(\"Hello\", fullName())\n",
    "    print(insideVar2)\n",
    "    \n",
    "\n",
    "greeting(\"Rajat\", \"Jain\")\n"
   ]
  },
  {
   "cell_type": "code",
   "execution_count": 297,
   "id": "55a61ef5-d769-465f-b7c6-5d664ec07384",
   "metadata": {},
   "outputs": [
    {
     "name": "stdout",
     "output_type": "stream",
     "text": [
      "Shout <function shout at 0x000001F1537F3240>\n",
      "<function shout at 0x000001F1537F3240>\n",
      "Inside shout function\n",
      "Result: THE QUICK BROWN FOX\n",
      "whisper <function whisper at 0x000001F15479CFE0>\n",
      "<function whisper at 0x000001F15479CFE0>\n",
      "Inside whisper function\n",
      "Result: the quick brown fox\n"
     ]
    }
   ],
   "source": [
    "def shout(text, x, y):\n",
    "    print(\"Inside shout function\")\n",
    "    return text.upper()\n",
    "    \n",
    "def whisper(text, x, y):\n",
    "    print(\"Inside whisper function\")\n",
    "    return text.lower()\n",
    "\n",
    "def greet(func):\n",
    "    print(func)\n",
    "    x = func(\"The Quick Brown Fox\", 3 ,4)\n",
    "    print(\"Result:\",x)\n",
    "    \n",
    "print(\"Shout\", shout)\n",
    "greet(shout)\n",
    "\n",
    "print(\"whisper\", whisper)\n",
    "greet(whisper)"
   ]
  },
  {
   "cell_type": "code",
   "execution_count": 250,
   "id": "3fb66d04-39e7-4ea0-8d17-7561ab06be5e",
   "metadata": {},
   "outputs": [],
   "source": [
    "def greet(var):\n",
    "    x = var\n",
    "    print(\"Result:\",x)"
   ]
  },
  {
   "cell_type": "code",
   "execution_count": 272,
   "id": "a1a6fb87-14b0-4e53-a5f9-2efc08dfad83",
   "metadata": {},
   "outputs": [
    {
     "name": "stdout",
     "output_type": "stream",
     "text": [
      "Inside outer function\n",
      "<function outer_function.<locals>.inside_function at 0x000001F15479D8A0>\n",
      "Inside function 1\n"
     ]
    }
   ],
   "source": [
    "def outer_function(a):\n",
    "    print(\"Inside outer function\")\n",
    "\n",
    "    def inside_function(a):\n",
    "        print(\"Inside function\", a)\n",
    "    \n",
    "    return inside_function\n",
    "\n",
    "returnedFunc = outer_function(1)\n",
    "print(returnedFunc)\n",
    "returnedFunc(1)"
   ]
  },
  {
   "cell_type": "code",
   "execution_count": 280,
   "id": "7df922c6-9104-4455-8bba-89bbfb7798f7",
   "metadata": {},
   "outputs": [
    {
     "name": "stdout",
     "output_type": "stream",
     "text": [
      "HEllo\n"
     ]
    }
   ],
   "source": [
    "def mmff():\n",
    "    print(\"HEllo\")\n",
    "\n",
    "abc = mmff\n",
    "abc()"
   ]
  },
  {
   "cell_type": "code",
   "execution_count": 288,
   "id": "bd095c45-1413-4bc4-8425-4aa4d157a8b9",
   "metadata": {},
   "outputs": [
    {
     "name": "stdout",
     "output_type": "stream",
     "text": [
      "100\n"
     ]
    }
   ],
   "source": [
    "varx = 34\n",
    "\n",
    "def abcvar(varx):\n",
    "    varx = 100\n",
    "\n",
    "abcvar(varx)\n",
    "print(varx)"
   ]
  },
  {
   "cell_type": "markdown",
   "id": "ef30f705-50e9-470d-8b66-cec05195e463",
   "metadata": {},
   "source": [
    "## Lambda Function"
   ]
  },
  {
   "cell_type": "code",
   "execution_count": 290,
   "id": "d2a61d4f-4e96-4f6b-ab76-87a7a649cac2",
   "metadata": {},
   "outputs": [
    {
     "name": "stdout",
     "output_type": "stream",
     "text": [
      "7\n"
     ]
    }
   ],
   "source": [
    "def add_two_digit(x, y):\n",
    "    return x + y\n",
    "myfun = add_two_digit\n",
    "\n",
    "lambda x, y: x + y\n",
    "myfun = lambda x, y: x + y\n",
    "\n",
    "print(myfun(3,4))"
   ]
  },
  {
   "cell_type": "code",
   "execution_count": 292,
   "id": "0853cb63-b421-4774-b5b6-45d4c188662f",
   "metadata": {},
   "outputs": [
    {
     "data": {
      "text/plain": [
       "7"
      ]
     },
     "execution_count": 292,
     "metadata": {},
     "output_type": "execute_result"
    }
   ],
   "source": [
    "inc_3 = lambda x: x + 3\n",
    "inc_3(4)"
   ]
  },
  {
   "cell_type": "code",
   "execution_count": null,
   "id": "6ad3e2c8-6ca1-4733-ae1c-c745df9bf190",
   "metadata": {},
   "outputs": [],
   "source": [
    "def inc_3(x): \n",
    "    return x + 3"
   ]
  },
  {
   "cell_type": "code",
   "execution_count": null,
   "id": "0ff040ee-b243-4f74-8e16-cbf5e2274eb4",
   "metadata": {},
   "outputs": [],
   "source": []
  },
  {
   "cell_type": "code",
   "execution_count": null,
   "id": "5b1b0bfd-45b9-4507-9785-37d677bd836f",
   "metadata": {},
   "outputs": [],
   "source": [
    "def cube(y):\n",
    "    return y * y * y\n",
    "\n",
    "cube = lambda y: y * y * y"
   ]
  },
  {
   "cell_type": "markdown",
   "id": "36d2fe28-630e-4403-bcf2-495a6b8bba11",
   "metadata": {},
   "source": [
    "Basic Function Creation: Write a function named greet that takes a name as an argument and prints “Hello,[name!”.\n",
    "Function with Default Argument: Create a function describe_pet that takes the name of a pet and its type (default to “dog”) and prints a description.'\n",
    "\n",
    "Return Multiple Values: Write a function calculate that takes two numbers and returns their sum, difference, product, and quotient.\n",
    "\n",
    "Variable Length Arguments: Create a function sum_all that accepts any number of arguments and returns their sum.\n",
    "\n",
    "Function with Keyword Arguments: Create a function build_profile that accepts a first name, last name, and arbitrary keyword arguments, and prints a user profile.\n",
    "\n",
    "Recursive Function: Write a recursive function factorial that calculates the factorial of a given number.\n",
    "\n",
    "Higher-Order Function: Write a function apply_function that takes another function and a value, and returns the result of applying the function to the value.\n",
    "\n",
    "Inner Function: Create a function outer that contains an inner function inner. The outer function should call the inner \n",
    "function and return its result.\n",
    "    \n",
    "Lambda Function: Write a lambda function that takes two arguments and returns their product. Assign it to a variable named multiply."
   ]
  },
  {
   "cell_type": "code",
   "execution_count": null,
   "id": "de4523ba-189c-4269-abc8-c599514355ae",
   "metadata": {},
   "outputs": [],
   "source": []
  }
 ],
 "metadata": {
  "kernelspec": {
   "display_name": "Python 3 (ipykernel)",
   "language": "python",
   "name": "python3"
  },
  "language_info": {
   "codemirror_mode": {
    "name": "ipython",
    "version": 3
   },
   "file_extension": ".py",
   "mimetype": "text/x-python",
   "name": "python",
   "nbconvert_exporter": "python",
   "pygments_lexer": "ipython3",
   "version": "3.12.4"
  }
 },
 "nbformat": 4,
 "nbformat_minor": 5
}
